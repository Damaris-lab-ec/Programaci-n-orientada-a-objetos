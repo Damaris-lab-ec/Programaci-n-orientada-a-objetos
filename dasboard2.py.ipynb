{
 "cells": [
  {
   "cell_type": "code",
   "id": "initial_id",
   "metadata": {
    "collapsed": true,
    "ExecuteTime": {
     "end_time": "2025-02-03T03:10:59.788928Z",
     "start_time": "2025-02-03T03:10:54.869018Z"
    }
   },
   "source": [
    "import os\n",
    "\n",
    "def mostrar_codigo(ruta_script):\n",
    "    # Asegúrate de que la ruta al script es absoluta\n",
    "    ruta_script_absoluta = os.path.abspath(ruta_script)\n",
    "    try:\n",
    "        with open(ruta_script_absoluta, 'r') as archivo:\n",
    "            print(f\"\\n--- Código de {ruta_script} ---\\n\")\n",
    "            print(archivo.read())\n",
    "    except FileNotFoundError:\n",
    "        print(\"El archivo no se encontró.\")\n",
    "    except Exception as e:\n",
    "        print(f\"Ocurrió un error al leer el archivo: {e}\")\n",
    "\n",
    "\n",
    "def mostrar_menu():\n",
    "    # Define la ruta base donde se encuentra el dashboard.py\n",
    "    ruta_base = os.path.dirname(__file__)\n",
    "\n",
    "    opciones = {\n",
    "        '1': 'semana 1/1.2 Tecnicas de Programacion.py',\n",
    "        # Agrega aquí el resto de las rutas de los scripts\n",
    "    }\n",
    "\n",
    "    while True:\n",
    "        print(\"\\n********Menu Principal - Dashboard*************\")\n",
    "        # Imprime las opciones del menú\n",
    "        for key in opciones:\n",
    "            print(f\"{key} - {opciones[key]}\")\n",
    "        print(\"0 - Salir\")\n",
    "\n",
    "        eleccion = input(\"Elige un script para ver su código o '0' para salir: \")\n",
    "        if eleccion == '0':\n",
    "            break\n",
    "        elif eleccion in opciones:\n",
    "            # Asegura que el path sea absoluto\n",
    "            ruta_script = os.path.join(ruta_base, opciones[eleccion])\n",
    "            mostrar_codigo(ruta_script)\n",
    "        else:\n",
    "            print(\"Opción no válida. Por favor, intenta de nuevo.\")\n",
    "\n",
    "\n",
    "# Ejecutar el dashboard\n",
    "if __name__ == \"__main__\":\n",
    "    mostrar_menu()"
   ],
   "outputs": [
    {
     "ename": "NameError",
     "evalue": "name '__file__' is not defined",
     "output_type": "error",
     "traceback": [
      "\u001B[1;31m---------------------------------------------------------------------------\u001B[0m",
      "\u001B[1;31mNameError\u001B[0m                                 Traceback (most recent call last)",
      "Cell \u001B[1;32mIn[1], line 45\u001B[0m\n\u001B[0;32m     43\u001B[0m \u001B[38;5;66;03m# Ejecutar el dashboard\u001B[39;00m\n\u001B[0;32m     44\u001B[0m \u001B[38;5;28;01mif\u001B[39;00m \u001B[38;5;18m__name__\u001B[39m \u001B[38;5;241m==\u001B[39m \u001B[38;5;124m\"\u001B[39m\u001B[38;5;124m__main__\u001B[39m\u001B[38;5;124m\"\u001B[39m:\n\u001B[1;32m---> 45\u001B[0m     \u001B[43mmostrar_menu\u001B[49m\u001B[43m(\u001B[49m\u001B[43m)\u001B[49m\n",
      "Cell \u001B[1;32mIn[1], line 18\u001B[0m, in \u001B[0;36mmostrar_menu\u001B[1;34m()\u001B[0m\n\u001B[0;32m     16\u001B[0m \u001B[38;5;28;01mdef\u001B[39;00m\u001B[38;5;250m \u001B[39m\u001B[38;5;21mmostrar_menu\u001B[39m():\n\u001B[0;32m     17\u001B[0m     \u001B[38;5;66;03m# Define la ruta base donde se encuentra el dashboard.py\u001B[39;00m\n\u001B[1;32m---> 18\u001B[0m     ruta_base \u001B[38;5;241m=\u001B[39m os\u001B[38;5;241m.\u001B[39mpath\u001B[38;5;241m.\u001B[39mdirname(\u001B[38;5;18;43m__file__\u001B[39;49m)\n\u001B[0;32m     20\u001B[0m     opciones \u001B[38;5;241m=\u001B[39m {\n\u001B[0;32m     21\u001B[0m         \u001B[38;5;124m'\u001B[39m\u001B[38;5;124m1\u001B[39m\u001B[38;5;124m'\u001B[39m: \u001B[38;5;124m'\u001B[39m\u001B[38;5;124msemana 1/1.2 Tecnicas de Programacion.py\u001B[39m\u001B[38;5;124m'\u001B[39m,\n\u001B[0;32m     22\u001B[0m         \u001B[38;5;66;03m# Agrega aquí el resto de las rutas de los scripts\u001B[39;00m\n\u001B[0;32m     23\u001B[0m     }\n\u001B[0;32m     25\u001B[0m     \u001B[38;5;28;01mwhile\u001B[39;00m \u001B[38;5;28;01mTrue\u001B[39;00m:\n",
      "\u001B[1;31mNameError\u001B[0m: name '__file__' is not defined"
     ]
    }
   ],
   "execution_count": 1
  },
  {
   "metadata": {},
   "cell_type": "code",
   "outputs": [],
   "execution_count": null,
   "source": "",
   "id": "908aae3de0a4aa94"
  },
  {
   "metadata": {},
   "cell_type": "code",
   "outputs": [],
   "execution_count": null,
   "source": "",
   "id": "430c6238bc09cf2b"
  }
 ],
 "metadata": {
  "kernelspec": {
   "display_name": "Python 3",
   "language": "python",
   "name": "python3"
  },
  "language_info": {
   "codemirror_mode": {
    "name": "ipython",
    "version": 2
   },
   "file_extension": ".py",
   "mimetype": "text/x-python",
   "name": "python",
   "nbconvert_exporter": "python",
   "pygments_lexer": "ipython2",
   "version": "2.7.6"
  }
 },
 "nbformat": 4,
 "nbformat_minor": 5
}
